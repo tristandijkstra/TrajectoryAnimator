{
 "cells": [
  {
   "cell_type": "markdown",
   "metadata": {},
   "source": [
    "# Juice Transfer Example\n",
    "This example shows the trajectory of the JUpiter ICy moons Explorer (JUICE). The data for the planets and JUICE are retrieved from JPL Horizons via the astroquery library. The example showcases all the most commonly required features available in GUPTA."
   ]
  },
  {
   "cell_type": "markdown",
   "metadata": {},
   "source": [
    "#### Imports"
   ]
  },
  {
   "cell_type": "code",
   "execution_count": 1,
   "metadata": {},
   "outputs": [],
   "source": [
    "from trajectoryanimator.animator import (\n",
    "    TrajectoryAnimator,\n",
    "    TrajectoryParticle,\n",
    "    CameraSequence,\n",
    "    astronomical_unit,\n",
    ")\n",
    "import numpy as np\n",
    "\n",
    "from astroquery.jplhorizons import Horizons\n",
    "from astropy import units\n",
    "import datetime\n"
   ]
  },
  {
   "cell_type": "markdown",
   "metadata": {},
   "source": [
    "#### Data retrieval\n",
    "Most of the work for this example is in the data retrieval. For this animation we would like to moving the planets a bit ahead of the launch but starting JUICE at the launch. We setup the the start and end dates, as well as the astroquery epoch dictionaries below:"
   ]
  },
  {
   "cell_type": "code",
   "execution_count": 2,
   "metadata": {},
   "outputs": [],
   "source": [
    "start = datetime.datetime(year=2022, month=1, day=1)\n",
    "launch_juice = datetime.datetime(year=2023, month=4, day=15)\n",
    "end = datetime.datetime(year=2031, month=7, day=21)\n",
    "\n",
    "date_str_format = \"%Y-%m-%d\"\n",
    "\n",
    "epochs_dict = epochs = {\n",
    "    \"start\": start.strftime(date_str_format),\n",
    "    \"stop\": end.strftime(date_str_format),\n",
    "    \"step\": \"5d\",\n",
    "}\n",
    "epochs_dict_juice = epochs = {\n",
    "    \"start\": launch_juice.strftime(date_str_format),\n",
    "    \"stop\": end.strftime(date_str_format),\n",
    "    \"step\": \"5d\",\n",
    "}"
   ]
  },
  {
   "cell_type": "markdown",
   "metadata": {},
   "source": [
    "The exact workings of astroquery and its JPL horizons interface are not important to this example, and will thus be left as an exercise to the reader. GUPTA requires a position array of shape 3xN and a list of datetimes of length N. We can use the following function to process the data retrieved by astroquery:"
   ]
  },
  {
   "cell_type": "code",
   "execution_count": 3,
   "metadata": {},
   "outputs": [],
   "source": [
    "def retrieve_pos_and_times(horizons_query):\n",
    "    vectors = horizons_query.vectors()\n",
    "\n",
    "    position_data = np.vstack(\n",
    "        [\n",
    "            vectors[\"x\"].to(units.meter),\n",
    "            vectors[\"y\"].to(units.meter),\n",
    "            vectors[\"z\"].to(units.meter),\n",
    "        ]\n",
    "    ).T\n",
    "    time_data = list(vectors[\"datetime_str\"])\n",
    "    horizons_time_format = \"A.D. %Y-%b-%d %H:%M:%S.%f\"\n",
    "    time_data = [datetime.datetime.strptime(x, horizons_time_format) for x in time_data]\n",
    "\n",
    "    return time_data, position_data\n"
   ]
  },
  {
   "cell_type": "markdown",
   "metadata": {},
   "source": [
    "Lets now retrieve the required data from astroquery:"
   ]
  },
  {
   "cell_type": "code",
   "execution_count": 4,
   "metadata": {},
   "outputs": [],
   "source": [
    "juice_query = Horizons(id=\"JUICE\", location=\"@Sun\", epochs=epochs_dict_juice)\n",
    "venus_query = Horizons(id=\"299\", location=\"@Sun\", epochs=epochs_dict)\n",
    "earth_query = Horizons(id=\"399\", location=\"@Sun\", epochs=epochs_dict)\n",
    "mars_query = Horizons(id=\"499\", location=\"@Sun\", epochs=epochs_dict)\n",
    "jupiter_query = Horizons(id=\"599\", location=\"@Sun\", epochs=epochs_dict)\n",
    "\n",
    "juice_times, juice_position = retrieve_pos_and_times(juice_query)\n",
    "earth_times, earth_position = retrieve_pos_and_times(earth_query)\n",
    "mars_times, mars_position = retrieve_pos_and_times(mars_query)\n",
    "jupiter_times, jupiter_position = retrieve_pos_and_times(jupiter_query)\n",
    "venus_times, venus_position = retrieve_pos_and_times(venus_query)"
   ]
  },
  {
   "cell_type": "markdown",
   "metadata": {},
   "source": [
    "#### Creating a basic animation\n",
    "Now that the data is ready, we can create a basic animation. GUPTA requires 2 object classes to create an animation. The `TrajectoryParticle` object contains the information of a single celestial body. The `TrajectoryAnimator` object collects all the information of the animation and is ultimately used to generate the trajectory. We give each Particle a name and colour as identification. Any [matplotlib-compatible colour](https://matplotlib.org/stable/gallery/color/named_colors.html) will work."
   ]
  },
  {
   "cell_type": "code",
   "execution_count": 5,
   "metadata": {},
   "outputs": [],
   "source": [
    "juice = TrajectoryParticle(\n",
    "    name=\"JUICE\",\n",
    "    color=\"#FFD166\",\n",
    "    time_data=juice_times,\n",
    "    position_data=juice_position,\n",
    ")\n",
    "\n",
    "earth = TrajectoryParticle(\n",
    "    name=\"Earth\",\n",
    "    color=\"#249DAB\",\n",
    "    time_data=earth_times,\n",
    "    position_data=earth_position,\n",
    ")\n",
    "venus = TrajectoryParticle(\n",
    "    name=\"Venus\",\n",
    "    color=\"violet\",\n",
    "    time_data=venus_times,\n",
    "    position_data=venus_position,\n",
    ")\n",
    "mars = TrajectoryParticle(\n",
    "    name=\"Mars\",\n",
    "    color=\"#ef476f\",\n",
    "    time_data=mars_times,\n",
    "    position_data=mars_position,\n",
    ")\n",
    "jupiter = TrajectoryParticle(\n",
    "    name=\"Jupiter\",\n",
    "    color=\"#06D6A0\",\n",
    "    time_data=jupiter_times,\n",
    "    position_data=jupiter_position,\n",
    ")\n"
   ]
  },
  {
   "cell_type": "code",
   "execution_count": null,
   "metadata": {},
   "outputs": [],
   "source": [
    "traj = TrajectoryAnimator(\n",
    "    particles=[venus, earth, mars, jupiter, juice],\n",
    "    speed=int(5e5),\n",
    "    duration=None,\n",
    "    central_body_color=\"yellow\",\n",
    "    plot_limits=5.5*astronomical_unit,\n",
    "    fps=30,\n",
    "    dpi=48,\n",
    "    resolution=(1280, 720),\n",
    ")\n"
   ]
  },
  {
   "cell_type": "code",
   "execution_count": 7,
   "metadata": {},
   "outputs": [
    {
     "name": "stdout",
     "output_type": "stream",
     "text": [
      "Saving to doc/juice_basic.gif\n",
      "Physical Duration: 3485 days, 0:00:00 | Animation Duration 0:00:20\n"
     ]
    },
    {
     "name": "stderr",
     "output_type": "stream",
     "text": [
      "  0%|          | 0/605 [00:00<?, ?it/s]"
     ]
    },
    {
     "name": "stderr",
     "output_type": "stream",
     "text": [
      "100%|█████████▉| 603/605 [01:20<00:00, 11.19it/s]"
     ]
    }
   ],
   "source": [
    "traj.run_animation(savefile=\"doc/juice_basic.gif\")\n"
   ]
  },
  {
   "cell_type": "markdown",
   "metadata": {},
   "source": [
    "![Animation](doc/juice_basic.gif)"
   ]
  },
  {
   "cell_type": "markdown",
   "metadata": {},
   "source": [
    "#### Additional improvements\n",
    "Each of the trajectory particles allows for an `extra_data` which allows for displaying additional information about the particle. Lets add a T+- launch days. The extradata must be of shape NxM, where M is the number of extra_data entries. additionally an extra_data_prefixes list must be present with length M."
   ]
  },
  {
   "cell_type": "code",
   "execution_count": 8,
   "metadata": {},
   "outputs": [
    {
     "name": "stdout",
     "output_type": "stream",
     "text": [
      "[['-469 days']\n",
      " ['-464 days']\n",
      " ['-459 days']\n",
      " ['-454 days']\n",
      " ['-449 days']]\n",
      "[['+2996 days']\n",
      " ['+3001 days']\n",
      " ['+3006 days']\n",
      " ['+3011 days']\n",
      " ['+3016 days']]\n"
     ]
    }
   ],
   "source": [
    "days_to_launch = [\n",
    "    (\n",
    "        str((x - launch_juice).days) + \" days\"\n",
    "        if (x - launch_juice).days < 0\n",
    "        else (\"+\" + str((x - launch_juice).days)) + \" days\"\n",
    "    )\n",
    "    for x in earth_times\n",
    "]\n",
    "days_to_launch = np.array(days_to_launch)[:, np.newaxis]\n",
    "\n",
    "extra_data_prefixes = [\"JUICE Launch T\"]\n",
    "\n",
    "print(days_to_launch[:5])\n",
    "print(days_to_launch[-5:])"
   ]
  },
  {
   "cell_type": "markdown",
   "metadata": {},
   "source": [
    "To improve the readability of the animation, lets modify the lines, making JUICE's line thicker and adding a tracer to each of the bodies. We will also add a custom viewing angle using the camera object."
   ]
  },
  {
   "cell_type": "code",
   "execution_count": 9,
   "metadata": {},
   "outputs": [],
   "source": [
    "\n",
    "juice = TrajectoryParticle(\n",
    "    \"JUICE\",\n",
    "    \"#FFD166\",\n",
    "    time_data=juice_times,\n",
    "    position_data=juice_position,\n",
    "    enable_tracer=False,\n",
    "    # line_width=2,\n",
    ")\n",
    "\n",
    "earth = TrajectoryParticle(\n",
    "    \"Earth\",\n",
    "    \"#249DAB\",\n",
    "    time_data=earth_times,\n",
    "    position_data=earth_position,\n",
    "    enable_tracer=True,\n",
    "    extra_data=days_to_launch,\n",
    "    extra_data_prefixes=extra_data_prefixes\n",
    ")\n",
    "venus = TrajectoryParticle(\n",
    "    \"Venus\",\n",
    "    \"violet\",\n",
    "    time_data=venus_times,\n",
    "    position_data=venus_position,\n",
    "    enable_tracer=True,\n",
    ")\n",
    "mars = TrajectoryParticle(\n",
    "    \"Mars\",\n",
    "    \"#ef476f\",\n",
    "    time_data=mars_times,\n",
    "    position_data=mars_position,\n",
    "    enable_tracer=True,\n",
    ")\n",
    "jupiter = TrajectoryParticle(\n",
    "    \"Jupiter\",\n",
    "    \"#06D6A0\",\n",
    "    time_data=jupiter_times,\n",
    "    position_data=jupiter_position,\n",
    "    enable_tracer=True,\n",
    ")"
   ]
  },
  {
   "cell_type": "markdown",
   "metadata": {},
   "source": [
    "GUPTA's viewing angles can be adjusted with the `CameraSequence` class. The the camera can be setup with the `addSegment` method which acts as keyframes at specific points throughout the animation. These keyframes mark the viewing angle and zoom. The time of the keyframe is specified as a fraction, starting at 0 and ending at 1 when all particles have completed their orbit. Fractions beyond 1 allow for extension of the animation beyond the animation. Fractions below 0 are currently not implemented. The keyframes are smoothly animated using bezier curves. Lets set up a simple camera sequence:"
   ]
  },
  {
   "cell_type": "code",
   "execution_count": 10,
   "metadata": {},
   "outputs": [],
   "source": [
    "camera = CameraSequence()\n",
    "zoom0 = 1.2\n",
    "zoom1 = 4\n",
    "zoom2 = 2.5\n",
    "\n",
    "camera.addSegment(0.0, elevation=90, azimuth=0, zoom = zoom0)\n",
    "camera.addSegment(0.07, elevation=90, azimuth=0, zoom = zoom0)\n",
    "camera.addSegment(0.10, elevation=90, azimuth=0, zoom = zoom1)\n",
    "camera.addSegment(0.45, elevation=90, azimuth=0, zoom = zoom1)\n",
    "camera.addSegment(0.6, elevation=90, azimuth=0, zoom = zoom2)\n",
    "camera.addSegment(1, elevation=90, azimuth=0, zoom = zoom2)\n",
    "camera.addSegment(1.1, elevation=90, azimuth=0, zoom = zoom2)"
   ]
  },
  {
   "cell_type": "markdown",
   "metadata": {},
   "source": [
    "Lets use these changes to animate our final animation in both gif and mp4 format for the GitHub readme file. Please note that the mp4 will have a higher fidelity, so its use is generally preffered."
   ]
  },
  {
   "cell_type": "code",
   "execution_count": null,
   "metadata": {},
   "outputs": [],
   "source": [
    "traj = TrajectoryAnimator(\n",
    "    particles=[venus, earth, mars, jupiter, juice],\n",
    "    speed=int(3.5e5),\n",
    "    central_body_color=\"yellow\",\n",
    "    camera=camera,\n",
    "    plot_limits=5.5*astronomical_unit,\n",
    "    fps=60,\n",
    "    dpi=96,\n",
    "    resolution=(1280, 720),\n",
    "    watermark=\"Data retrieved from JPL Horizons system\"\n",
    ")\n",
    "\n",
    "traj.run_animation(savefile=\"doc/juice_cam.gif\")"
   ]
  },
  {
   "cell_type": "markdown",
   "metadata": {},
   "source": [
    "![Animation](doc/juice_cam.gif)"
   ]
  },
  {
   "cell_type": "markdown",
   "metadata": {},
   "source": [
    "Thats it! More documentation can be found in each function's docstrings. Try modifying the script to view the trajectory of other spacecraft or celestial bodies."
   ]
  },
  {
   "cell_type": "markdown",
   "metadata": {},
   "source": []
  }
 ],
 "metadata": {
  "kernelspec": {
   "display_name": "hi",
   "language": "python",
   "name": "python3"
  },
  "language_info": {
   "codemirror_mode": {
    "name": "ipython",
    "version": 3
   },
   "file_extension": ".py",
   "mimetype": "text/x-python",
   "name": "python",
   "nbconvert_exporter": "python",
   "pygments_lexer": "ipython3",
   "version": "3.11.7"
  }
 },
 "nbformat": 4,
 "nbformat_minor": 2
}
